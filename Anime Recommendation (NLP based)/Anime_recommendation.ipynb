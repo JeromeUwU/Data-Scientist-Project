{
 "cells": [
  {
   "cell_type": "code",
   "execution_count": 26,
   "metadata": {},
   "outputs": [
    {
     "name": "stderr",
     "output_type": "stream",
     "text": [
      "[nltk_data] Downloading package punkt to /Users/jerometam/nltk_data...\n",
      "[nltk_data]   Package punkt is already up-to-date!\n",
      "[nltk_data] Downloading package stopwords to\n",
      "[nltk_data]     /Users/jerometam/nltk_data...\n",
      "[nltk_data]   Package stopwords is already up-to-date!\n",
      "[nltk_data] Downloading package wordnet to\n",
      "[nltk_data]     /Users/jerometam/nltk_data...\n",
      "[nltk_data]   Package wordnet is already up-to-date!\n"
     ]
    }
   ],
   "source": [
    "import numpy as np\n",
    "import pandas as pd \n",
    "import ast\n",
    "from matplotlib import pyplot as plt\n",
    "import seaborn as sns\n",
    "import torch\n",
    "\n",
    "import nltk\n",
    "from nltk.corpus import stopwords\n",
    "from nltk.tokenize import word_tokenize\n",
    "from nltk.stem import WordNetLemmatizer\n",
    "\n",
    "nltk.download('punkt')\n",
    "nltk.download('stopwords')\n",
    "nltk.download('wordnet')\n",
    "\n",
    "from sklearn.feature_extraction.text import TfidfVectorizer\n"
   ]
  },
  {
   "cell_type": "code",
   "execution_count": 2,
   "metadata": {},
   "outputs": [],
   "source": [
    "df_anime = pd.read_csv('/Users/jerometam/Desktop/DATABASE/my_anime)/animes.csv')\n",
    "df_profile = pd.read_csv('/Users/jerometam/Desktop/DATABASE/my_anime)/profiles.csv')\n",
    "df_reviews = pd.read_csv('/Users/jerometam/Desktop/DATABASE/my_anime)/reviews.csv')"
   ]
  },
  {
   "cell_type": "code",
   "execution_count": 3,
   "metadata": {},
   "outputs": [],
   "source": [
    "#df_anime.head(1)\n",
    "#df_profile.head(1)\n",
    "#ddf_reviews.head(1)"
   ]
  },
  {
   "cell_type": "markdown",
   "metadata": {},
   "source": [
    "# Data Cleaning"
   ]
  },
  {
   "cell_type": "markdown",
   "metadata": {},
   "source": [
    "Drop useless columns and useless row duplicates"
   ]
  },
  {
   "cell_type": "code",
   "execution_count": 4,
   "metadata": {},
   "outputs": [],
   "source": [
    "df_anime = df_anime.drop(columns= ['img_url','link'])\n",
    "df_profile = df_profile.drop(columns='link')\n",
    "df_reviews = df_reviews.drop(columns='link')\n",
    "\n",
    "df_anime = df_anime.drop_duplicates(subset='title', keep='first')\n",
    "df_anime = df_anime.drop_duplicates(subset='synopsis', keep='first')\n",
    "df_reviews  = df_reviews.drop_duplicates(subset=['profile','anime_uid'], keep='first')\n",
    "df_profile = df_profile.drop_duplicates(subset='profile', keep='first')"
   ]
  },
  {
   "cell_type": "markdown",
   "metadata": {},
   "source": [
    "Check null/nan data "
   ]
  },
  {
   "cell_type": "code",
   "execution_count": 5,
   "metadata": {},
   "outputs": [
    {
     "name": "stdout",
     "output_type": "stream",
     "text": [
      "Anime data : \n",
      " uid              0\n",
      "title            0\n",
      "synopsis         1\n",
      "genre            0\n",
      "aired            0\n",
      "episodes       385\n",
      "members          0\n",
      "popularity       0\n",
      "ranked        1441\n",
      "score          256\n",
      "dtype: int64 \n",
      "\n",
      " Reviews data : \n",
      "uid          0\n",
      "profile      0\n",
      "anime_uid    0\n",
      "text         0\n",
      "score        0\n",
      "scores       0\n",
      "dtype: int64\n",
      "\n",
      "  Profile data : \n",
      "profile                0\n",
      "gender             17007\n",
      "birthday           21037\n",
      "favorites_anime        0\n",
      "dtype: int64 \n"
     ]
    }
   ],
   "source": [
    "\n",
    "print(f'Anime data : \\n {df_anime.isnull().sum()} \\n\\n Reviews data : \\n{df_reviews.isnull().sum()}\\n\\n  Profile data : \\n{df_profile.isnull().sum()} ')\n"
   ]
  },
  {
   "cell_type": "code",
   "execution_count": 6,
   "metadata": {},
   "outputs": [
    {
     "name": "stdout",
     "output_type": "stream",
     "text": [
      "Anime data : \n",
      " uid              0\n",
      "title            0\n",
      "synopsis         1\n",
      "genre            0\n",
      "aired            0\n",
      "episodes       385\n",
      "members          0\n",
      "popularity       0\n",
      "ranked        1441\n",
      "score          256\n",
      "dtype: int64 \n",
      "\n",
      " Reviews data : \n",
      "uid          0\n",
      "profile      0\n",
      "anime_uid    0\n",
      "text         0\n",
      "score        0\n",
      "scores       0\n",
      "dtype: int64\n",
      "\n",
      "  Profile data : \n",
      "profile                0\n",
      "gender             17007\n",
      "birthday           21037\n",
      "favorites_anime        0\n",
      "dtype: int64 \n"
     ]
    }
   ],
   "source": [
    "#Check nan data \n",
    "print(f'Anime data : \\n {df_anime.isna().sum()} \\n\\n Reviews data : \\n{df_reviews.isna().sum()}\\n\\n  Profile data : \\n{df_profile.isna().sum()} ')"
   ]
  },
  {
   "cell_type": "markdown",
   "metadata": {},
   "source": [
    "Get rid of nan data and only keep columns we want for our model"
   ]
  },
  {
   "cell_type": "code",
   "execution_count": 7,
   "metadata": {},
   "outputs": [],
   "source": [
    "df_anime = df_anime.dropna(subset=['synopsis'])\n",
    "df_anime = df_anime.drop(columns=['episodes','ranked'])\n",
    "df_anime['score'] = df_anime['score'].fillna(0)\n",
    "df_profile = df_profile.drop(columns=['gender','birthday'])"
   ]
  },
  {
   "cell_type": "markdown",
   "metadata": {},
   "source": [
    "Merge anime name with reviews and anime name to profile"
   ]
  },
  {
   "cell_type": "code",
   "execution_count": 8,
   "metadata": {},
   "outputs": [],
   "source": [
    "df_reviews = pd.merge(df_reviews, df_anime.rename(columns={'uid': \"anime_uid\"})[[\"anime_uid\",'title']], on='anime_uid', how='left')\n",
    "df_reviews = df_reviews.dropna(subset=['title'])"
   ]
  },
  {
   "cell_type": "code",
   "execution_count": 9,
   "metadata": {},
   "outputs": [],
   "source": [
    "\n",
    "uid_to_name = pd.Series(df_anime[['uid','title']].title.values, index=df_anime[['uid','title']].uid).to_dict()\n",
    "def replace_uids_with_names(uid_list):\n",
    "    return [uid_to_name.get(int(uid), int(uid)) for uid in uid_list]\n",
    "\n",
    "\n",
    "df_profile['favorites_anime_name'] = df_profile['favorites_anime'].apply(ast.literal_eval).apply(replace_uids_with_names)\n",
    "\n",
    "\n"
   ]
  },
  {
   "cell_type": "code",
   "execution_count": 10,
   "metadata": {},
   "outputs": [],
   "source": [
    "#df_anime.head(2)\n",
    "#df_reviews.head(2)\n",
    "#df_profile.head(2)"
   ]
  },
  {
   "cell_type": "code",
   "execution_count": 11,
   "metadata": {},
   "outputs": [
    {
     "name": "stdout",
     "output_type": "stream",
     "text": [
      "Anime data : \n",
      " uid           0\n",
      "title         0\n",
      "synopsis      0\n",
      "genre         0\n",
      "aired         0\n",
      "members       0\n",
      "popularity    0\n",
      "score         0\n",
      "dtype: int64 \n",
      "\n",
      " Reviews data : \n",
      "uid          0\n",
      "profile      0\n",
      "anime_uid    0\n",
      "text         0\n",
      "score        0\n",
      "scores       0\n",
      "title        0\n",
      "dtype: int64\n",
      "\n",
      "  Profile data : \n",
      "profile                 0\n",
      "favorites_anime         0\n",
      "favorites_anime_name    0\n",
      "dtype: int64 \n"
     ]
    }
   ],
   "source": [
    "print(f'Anime data : \\n {df_anime.isna().sum()} \\n\\n Reviews data : \\n{df_reviews.isna().sum()}\\n\\n  Profile data : \\n{df_profile.isna().sum()} ')"
   ]
  },
  {
   "cell_type": "code",
   "execution_count": 12,
   "metadata": {},
   "outputs": [],
   "source": [
    "df_anime = df_anime.reset_index(drop=True)\n",
    "df_reviews = df_reviews.reset_index(drop=True)\n",
    "df_profile = df_profile.reset_index(drop=True)"
   ]
  },
  {
   "cell_type": "code",
   "execution_count": 13,
   "metadata": {},
   "outputs": [
    {
     "name": "stdout",
     "output_type": "stream",
     "text": [
      " Unique in anime : \n",
      " uid           15192\n",
      "title         15192\n",
      "synopsis      15192\n",
      "genre          4769\n",
      "aired         10625\n",
      "members        8515\n",
      "popularity    13507\n",
      "score           574\n",
      "dtype: int64 \n",
      "\n",
      " Unique in reviews: \n",
      " uid          129970\n",
      "profile       47754\n",
      "anime_uid      7873\n",
      "text         129895\n",
      "score            12\n",
      "scores        29745\n",
      "title          7873\n",
      "dtype: int64\n",
      "\n",
      " Unique profile: \n",
      " 47885\n",
      "\n",
      "\n",
      "Len Anime Data 15192, Len Review Data 129970, Len profile Data 47885\n"
     ]
    }
   ],
   "source": [
    "print(f' Unique in anime : \\n {df_anime.nunique()} \\n\\n Unique in reviews: \\n {df_reviews.nunique()}\\n\\n Unique profile: \\n {df_profile[\"profile\"].nunique()}')\n",
    "print(f'\\n\\nLen Anime Data {len(df_anime)}, Len Review Data {len(df_reviews)}, Len profile Data {len(df_profile)}')"
   ]
  },
  {
   "cell_type": "markdown",
   "metadata": {},
   "source": [
    "# Model \n",
    "\n",
    "Section to prepare the model I will use 'genre', 'synopsis' to create recomendation model"
   ]
  },
  {
   "cell_type": "code",
   "execution_count": 14,
   "metadata": {},
   "outputs": [],
   "source": [
    "tmp = df_anime[['title','synopsis','genre']]"
   ]
  },
  {
   "cell_type": "code",
   "execution_count": 15,
   "metadata": {},
   "outputs": [
    {
     "name": "stderr",
     "output_type": "stream",
     "text": [
      "/var/folders/qz/ry7ywnsn3v9_gs8t_62vy8dc0000gn/T/ipykernel_81382/3005970923.py:5: SettingWithCopyWarning: \n",
      "A value is trying to be set on a copy of a slice from a DataFrame.\n",
      "Try using .loc[row_indexer,col_indexer] = value instead\n",
      "\n",
      "See the caveats in the documentation: https://pandas.pydata.org/pandas-docs/stable/user_guide/indexing.html#returning-a-view-versus-a-copy\n",
      "  tmp['genre'] = tmp['genre'].apply(clean_genre_string)\n"
     ]
    }
   ],
   "source": [
    "def clean_genre_string(genre_str):\n",
    "    cleaned_str = genre_str.strip(\"[]\").replace(\"'\", \"\")\n",
    "    return ', '.join(cleaned_str.split(', '))\n",
    "\n",
    "tmp['genre'] = tmp['genre'].apply(clean_genre_string)"
   ]
  },
  {
   "cell_type": "code",
   "execution_count": 16,
   "metadata": {},
   "outputs": [
    {
     "name": "stderr",
     "output_type": "stream",
     "text": [
      "/var/folders/qz/ry7ywnsn3v9_gs8t_62vy8dc0000gn/T/ipykernel_81382/3866758591.py:1: SettingWithCopyWarning: \n",
      "A value is trying to be set on a copy of a slice from a DataFrame.\n",
      "Try using .loc[row_indexer,col_indexer] = value instead\n",
      "\n",
      "See the caveats in the documentation: https://pandas.pydata.org/pandas-docs/stable/user_guide/indexing.html#returning-a-view-versus-a-copy\n",
      "  tmp['synopsis+genre'] = tmp['synopsis'] + \"\" + tmp['genre']\n"
     ]
    }
   ],
   "source": [
    "tmp['synopsis+genre'] = tmp['synopsis'] + \"\" + tmp['genre']"
   ]
  },
  {
   "cell_type": "code",
   "execution_count": 18,
   "metadata": {},
   "outputs": [],
   "source": [
    "def preprocess_synopsis(synopsis):\n",
    "    \n",
    "    words = word_tokenize(synopsis.lower())\n",
    "   \n",
    "    words = [word for word in words if word.isalnum() and word not in stopwords.words('english')]\n",
    "   \n",
    "    lemmatizer = WordNetLemmatizer()\n",
    "    words = [lemmatizer.lemmatize(word) for word in words]\n",
    "    return ' '.join(words)"
   ]
  },
  {
   "cell_type": "code",
   "execution_count": 19,
   "metadata": {},
   "outputs": [],
   "source": [
    "\n",
    "def get_tfidf_matrix(synopses):\n",
    "    tfidf = TfidfVectorizer(\n",
    "        min_df=3,\n",
    "        max_features=None,\n",
    "        strip_accents='unicode',\n",
    "        analyzer='word',\n",
    "        token_pattern=r'\\w{1,}',\n",
    "        ngram_range=(1, 3),\n",
    "        use_idf=True,\n",
    "        smooth_idf=True,\n",
    "        sublinear_tf=True\n",
    "    )\n",
    "    tfidf_matrix = tfidf.fit_transform(synopses)\n",
    "    return tfidf_matrix, tfidf"
   ]
  },
  {
   "cell_type": "code",
   "execution_count": 20,
   "metadata": {},
   "outputs": [
    {
     "name": "stderr",
     "output_type": "stream",
     "text": [
      "/var/folders/qz/ry7ywnsn3v9_gs8t_62vy8dc0000gn/T/ipykernel_81382/1549119039.py:1: SettingWithCopyWarning: \n",
      "A value is trying to be set on a copy of a slice from a DataFrame.\n",
      "Try using .loc[row_indexer,col_indexer] = value instead\n",
      "\n",
      "See the caveats in the documentation: https://pandas.pydata.org/pandas-docs/stable/user_guide/indexing.html#returning-a-view-versus-a-copy\n",
      "  tmp['processed_synopsis+genre'] = tmp['synopsis+genre'].apply(preprocess_synopsis)\n",
      "/var/folders/qz/ry7ywnsn3v9_gs8t_62vy8dc0000gn/T/ipykernel_81382/1549119039.py:2: SettingWithCopyWarning: \n",
      "A value is trying to be set on a copy of a slice from a DataFrame.\n",
      "Try using .loc[row_indexer,col_indexer] = value instead\n",
      "\n",
      "See the caveats in the documentation: https://pandas.pydata.org/pandas-docs/stable/user_guide/indexing.html#returning-a-view-versus-a-copy\n",
      "  tmp['processed_synopsis'] = tmp['synopsis'].apply(preprocess_synopsis)\n",
      "/var/folders/qz/ry7ywnsn3v9_gs8t_62vy8dc0000gn/T/ipykernel_81382/1549119039.py:3: SettingWithCopyWarning: \n",
      "A value is trying to be set on a copy of a slice from a DataFrame.\n",
      "Try using .loc[row_indexer,col_indexer] = value instead\n",
      "\n",
      "See the caveats in the documentation: https://pandas.pydata.org/pandas-docs/stable/user_guide/indexing.html#returning-a-view-versus-a-copy\n",
      "  tmp['processed_genre'] = tmp['genre'].apply(preprocess_synopsis)\n"
     ]
    }
   ],
   "source": [
    "tmp['processed_synopsis+genre'] = tmp['synopsis+genre'].apply(preprocess_synopsis)\n",
    "tmp['processed_synopsis'] = tmp['synopsis'].apply(preprocess_synopsis)\n",
    "tmp['processed_genre'] = tmp['genre'].apply(preprocess_synopsis)\n",
    "tfidf_matrix_sg, vectorizer_sg = get_tfidf_matrix(tmp['synopsis+genre'])\n",
    "tfidf_matrix_s, vectorizer_s = get_tfidf_matrix(tmp['synopsis'])\n",
    "tfidf_matrix_g, vectorizer_g = get_tfidf_matrix(tmp['genre'])"
   ]
  },
  {
   "cell_type": "code",
   "execution_count": 21,
   "metadata": {},
   "outputs": [],
   "source": [
    "from sklearn.metrics.pairwise import cosine_similarity\n",
    "\n",
    "def calculate_similarity(tfidf_matrix, vectorizer, new_synopsis):\n",
    "    \n",
    "    processed_synopsis = preprocess_synopsis(new_synopsis)\n",
    "    \n",
    "    synopsis_vector = vectorizer.transform([processed_synopsis])\n",
    "    \n",
    "    similarity_scores = cosine_similarity(synopsis_vector, tfidf_matrix)\n",
    "    return similarity_scores"
   ]
  },
  {
   "cell_type": "code",
   "execution_count": 22,
   "metadata": {},
   "outputs": [],
   "source": [
    "def recommend_movies(df,tfidf_matrix, vectorizer, new_synopsis, top_n=3):\n",
    "    \n",
    "    similarity_scores = calculate_similarity(tfidf_matrix, vectorizer, new_synopsis)\n",
    "    \n",
    "    top_indices = similarity_scores[0].argsort()[-top_n:][::-1]\n",
    "    return df.iloc[top_indices][['title', 'synopsis']]"
   ]
  },
  {
   "cell_type": "markdown",
   "metadata": {},
   "source": [
    "Testing the model with \"Fullmetal Alchemist: Brotherhood\""
   ]
  },
  {
   "cell_type": "code",
   "execution_count": 23,
   "metadata": {},
   "outputs": [
    {
     "name": "stdout",
     "output_type": "stream",
     "text": [
      "Recommended Movies based synopsis:\n"
     ]
    },
    {
     "data": {
      "text/html": [
       "<div>\n",
       "<style scoped>\n",
       "    .dataframe tbody tr th:only-of-type {\n",
       "        vertical-align: middle;\n",
       "    }\n",
       "\n",
       "    .dataframe tbody tr th {\n",
       "        vertical-align: top;\n",
       "    }\n",
       "\n",
       "    .dataframe thead th {\n",
       "        text-align: right;\n",
       "    }\n",
       "</style>\n",
       "<table border=\"1\" class=\"dataframe\">\n",
       "  <thead>\n",
       "    <tr style=\"text-align: right;\">\n",
       "      <th></th>\n",
       "      <th>title</th>\n",
       "      <th>synopsis</th>\n",
       "    </tr>\n",
       "  </thead>\n",
       "  <tbody>\n",
       "    <tr>\n",
       "      <th>3</th>\n",
       "      <td>Fullmetal Alchemist: Brotherhood</td>\n",
       "      <td>\"In order for something to be obtained, someth...</td>\n",
       "    </tr>\n",
       "    <tr>\n",
       "      <th>498</th>\n",
       "      <td>Fullmetal Alchemist</td>\n",
       "      <td>Edward Elric, a young, brilliant alchemist, ha...</td>\n",
       "    </tr>\n",
       "    <tr>\n",
       "      <th>2903</th>\n",
       "      <td>Fullmetal Alchemist: The Sacred Star of Milos ...</td>\n",
       "      <td>To mark the July 2 opening of the Fullmetal Al...</td>\n",
       "    </tr>\n",
       "    <tr>\n",
       "      <th>13398</th>\n",
       "      <td>Fullmetal Alchemist: The Sacred Star of Milos</td>\n",
       "      <td>Chasing a runaway alchemist with strange power...</td>\n",
       "    </tr>\n",
       "    <tr>\n",
       "      <th>5894</th>\n",
       "      <td>Fullmetal Alchemist: The Conqueror of Shamballa</td>\n",
       "      <td>In desperation, Edward Elric sacrificed his bo...</td>\n",
       "    </tr>\n",
       "    <tr>\n",
       "      <th>339</th>\n",
       "      <td>Fullmetal Alchemist: Brotherhood Specials</td>\n",
       "      <td>Amazing secrets and startling facts are expose...</td>\n",
       "    </tr>\n",
       "    <tr>\n",
       "      <th>3538</th>\n",
       "      <td>Joker Game</td>\n",
       "      <td>With World War II right around the corner, int...</td>\n",
       "    </tr>\n",
       "    <tr>\n",
       "      <th>8066</th>\n",
       "      <td>Ulysses: Jehanne Darc to Renkin no Kishi</td>\n",
       "      <td>The story is set in the 15th century, during t...</td>\n",
       "    </tr>\n",
       "    <tr>\n",
       "      <th>4040</th>\n",
       "      <td>Sword Gai</td>\n",
       "      <td>A promotional video for the manga. \\r\\n \\r\\nTh...</td>\n",
       "    </tr>\n",
       "    <tr>\n",
       "      <th>12942</th>\n",
       "      <td>Dr. Stone: Stone Wars</td>\n",
       "      <td>Second season of  Dr. Stone .</td>\n",
       "    </tr>\n",
       "  </tbody>\n",
       "</table>\n",
       "</div>"
      ],
      "text/plain": [
       "                                                   title  \\\n",
       "3                       Fullmetal Alchemist: Brotherhood   \n",
       "498                                  Fullmetal Alchemist   \n",
       "2903   Fullmetal Alchemist: The Sacred Star of Milos ...   \n",
       "13398      Fullmetal Alchemist: The Sacred Star of Milos   \n",
       "5894     Fullmetal Alchemist: The Conqueror of Shamballa   \n",
       "339            Fullmetal Alchemist: Brotherhood Specials   \n",
       "3538                                          Joker Game   \n",
       "8066            Ulysses: Jehanne Darc to Renkin no Kishi   \n",
       "4040                                           Sword Gai   \n",
       "12942                              Dr. Stone: Stone Wars   \n",
       "\n",
       "                                                synopsis  \n",
       "3      \"In order for something to be obtained, someth...  \n",
       "498    Edward Elric, a young, brilliant alchemist, ha...  \n",
       "2903   To mark the July 2 opening of the Fullmetal Al...  \n",
       "13398  Chasing a runaway alchemist with strange power...  \n",
       "5894   In desperation, Edward Elric sacrificed his bo...  \n",
       "339    Amazing secrets and startling facts are expose...  \n",
       "3538   With World War II right around the corner, int...  \n",
       "8066   The story is set in the 15th century, during t...  \n",
       "4040   A promotional video for the manga. \\r\\n \\r\\nTh...  \n",
       "12942                      Second season of  Dr. Stone .  "
      ]
     },
     "execution_count": 23,
     "metadata": {},
     "output_type": "execute_result"
    }
   ],
   "source": [
    "new_synopsis = tmp['synopsis'][3]\n",
    "\n",
    "recommended_movies = recommend_movies(tmp,tfidf_matrix_s, vectorizer_s, new_synopsis, top_n=10)\n",
    "print(\"Recommended Movies based synopsis:\")\n",
    "recommended_movies"
   ]
  },
  {
   "cell_type": "code",
   "execution_count": 24,
   "metadata": {},
   "outputs": [
    {
     "name": "stdout",
     "output_type": "stream",
     "text": [
      "Recommended Movies based on genre:\n"
     ]
    },
    {
     "data": {
      "text/html": [
       "<div>\n",
       "<style scoped>\n",
       "    .dataframe tbody tr th:only-of-type {\n",
       "        vertical-align: middle;\n",
       "    }\n",
       "\n",
       "    .dataframe tbody tr th {\n",
       "        vertical-align: top;\n",
       "    }\n",
       "\n",
       "    .dataframe thead th {\n",
       "        text-align: right;\n",
       "    }\n",
       "</style>\n",
       "<table border=\"1\" class=\"dataframe\">\n",
       "  <thead>\n",
       "    <tr style=\"text-align: right;\">\n",
       "      <th></th>\n",
       "      <th>title</th>\n",
       "      <th>synopsis</th>\n",
       "    </tr>\n",
       "  </thead>\n",
       "  <tbody>\n",
       "    <tr>\n",
       "      <th>7988</th>\n",
       "      <td>Sakana no Kuni</td>\n",
       "      <td>Short movie with Fish.</td>\n",
       "    </tr>\n",
       "    <tr>\n",
       "      <th>6714</th>\n",
       "      <td>Osaru no Sankichi: Boukuusen</td>\n",
       "      <td>Monkeys battle polar bears in air combat.  Sho...</td>\n",
       "    </tr>\n",
       "    <tr>\n",
       "      <th>6409</th>\n",
       "      <td>Tonpei to Sarukichi</td>\n",
       "      <td>A lazy pig Tonpei steals food from the monkeys...</td>\n",
       "    </tr>\n",
       "    <tr>\n",
       "      <th>7627</th>\n",
       "      <td>Rekkoku Rikugun</td>\n",
       "      <td>During a night of drinking Maru-san (Mr. Circl...</td>\n",
       "    </tr>\n",
       "    <tr>\n",
       "      <th>6896</th>\n",
       "      <td>Osaru no Sankichi: Totsugeki-tai</td>\n",
       "      <td>Short movie from 1934 about a war between monk...</td>\n",
       "    </tr>\n",
       "    <tr>\n",
       "      <th>12800</th>\n",
       "      <td>Youjo Senki: Senkyou Houkoku</td>\n",
       "      <td>Recap of the first 6 episodes of  Youjo Senki .</td>\n",
       "    </tr>\n",
       "    <tr>\n",
       "      <th>7017</th>\n",
       "      <td>Norakuro Shoui: Nichiyoubi no Kaijiken</td>\n",
       "      <td>Norakuro's adventures in the Fierce Dog Brigad...</td>\n",
       "    </tr>\n",
       "    <tr>\n",
       "      <th>3917</th>\n",
       "      <td>Busou Chuugakusei: Basket Army</td>\n",
       "      <td>The story is set in August of 2026 at the Fuji...</td>\n",
       "    </tr>\n",
       "    <tr>\n",
       "      <th>7590</th>\n",
       "      <td>Momotarou: Umi no Shinpei</td>\n",
       "      <td>A monkey, a dog, a pheasant, and a bear travel...</td>\n",
       "    </tr>\n",
       "    <tr>\n",
       "      <th>1319</th>\n",
       "      <td>Senjuushi: Kijuushi-tachi no Happy Birthday!</td>\n",
       "      <td>The story will be about the characters celebra...</td>\n",
       "    </tr>\n",
       "  </tbody>\n",
       "</table>\n",
       "</div>"
      ],
      "text/plain": [
       "                                              title  \\\n",
       "7988                                 Sakana no Kuni   \n",
       "6714                   Osaru no Sankichi: Boukuusen   \n",
       "6409                            Tonpei to Sarukichi   \n",
       "7627                                Rekkoku Rikugun   \n",
       "6896               Osaru no Sankichi: Totsugeki-tai   \n",
       "12800                  Youjo Senki: Senkyou Houkoku   \n",
       "7017         Norakuro Shoui: Nichiyoubi no Kaijiken   \n",
       "3917                 Busou Chuugakusei: Basket Army   \n",
       "7590                      Momotarou: Umi no Shinpei   \n",
       "1319   Senjuushi: Kijuushi-tachi no Happy Birthday!   \n",
       "\n",
       "                                                synopsis  \n",
       "7988                              Short movie with Fish.  \n",
       "6714   Monkeys battle polar bears in air combat.  Sho...  \n",
       "6409   A lazy pig Tonpei steals food from the monkeys...  \n",
       "7627   During a night of drinking Maru-san (Mr. Circl...  \n",
       "6896   Short movie from 1934 about a war between monk...  \n",
       "12800    Recap of the first 6 episodes of  Youjo Senki .  \n",
       "7017   Norakuro's adventures in the Fierce Dog Brigad...  \n",
       "3917   The story is set in August of 2026 at the Fuji...  \n",
       "7590   A monkey, a dog, a pheasant, and a bear travel...  \n",
       "1319   The story will be about the characters celebra...  "
      ]
     },
     "execution_count": 24,
     "metadata": {},
     "output_type": "execute_result"
    }
   ],
   "source": [
    "new_synopsis = tmp['synopsis'][3]\n",
    "\n",
    "recommended_movies = recommend_movies(tmp,tfidf_matrix_g, vectorizer_g, new_synopsis, top_n=10)\n",
    "print(\"Recommended Movies based on genre:\")\n",
    "recommended_movies"
   ]
  },
  {
   "cell_type": "code",
   "execution_count": 25,
   "metadata": {},
   "outputs": [
    {
     "name": "stdout",
     "output_type": "stream",
     "text": [
      "Recommended Movies based on synopsis+genre:\n"
     ]
    },
    {
     "data": {
      "text/html": [
       "<div>\n",
       "<style scoped>\n",
       "    .dataframe tbody tr th:only-of-type {\n",
       "        vertical-align: middle;\n",
       "    }\n",
       "\n",
       "    .dataframe tbody tr th {\n",
       "        vertical-align: top;\n",
       "    }\n",
       "\n",
       "    .dataframe thead th {\n",
       "        text-align: right;\n",
       "    }\n",
       "</style>\n",
       "<table border=\"1\" class=\"dataframe\">\n",
       "  <thead>\n",
       "    <tr style=\"text-align: right;\">\n",
       "      <th></th>\n",
       "      <th>title</th>\n",
       "      <th>synopsis</th>\n",
       "    </tr>\n",
       "  </thead>\n",
       "  <tbody>\n",
       "    <tr>\n",
       "      <th>3</th>\n",
       "      <td>Fullmetal Alchemist: Brotherhood</td>\n",
       "      <td>\"In order for something to be obtained, someth...</td>\n",
       "    </tr>\n",
       "    <tr>\n",
       "      <th>498</th>\n",
       "      <td>Fullmetal Alchemist</td>\n",
       "      <td>Edward Elric, a young, brilliant alchemist, ha...</td>\n",
       "    </tr>\n",
       "    <tr>\n",
       "      <th>2903</th>\n",
       "      <td>Fullmetal Alchemist: The Sacred Star of Milos ...</td>\n",
       "      <td>To mark the July 2 opening of the Fullmetal Al...</td>\n",
       "    </tr>\n",
       "    <tr>\n",
       "      <th>13398</th>\n",
       "      <td>Fullmetal Alchemist: The Sacred Star of Milos</td>\n",
       "      <td>Chasing a runaway alchemist with strange power...</td>\n",
       "    </tr>\n",
       "    <tr>\n",
       "      <th>5894</th>\n",
       "      <td>Fullmetal Alchemist: The Conqueror of Shamballa</td>\n",
       "      <td>In desperation, Edward Elric sacrificed his bo...</td>\n",
       "    </tr>\n",
       "    <tr>\n",
       "      <th>339</th>\n",
       "      <td>Fullmetal Alchemist: Brotherhood Specials</td>\n",
       "      <td>Amazing secrets and startling facts are expose...</td>\n",
       "    </tr>\n",
       "    <tr>\n",
       "      <th>3538</th>\n",
       "      <td>Joker Game</td>\n",
       "      <td>With World War II right around the corner, int...</td>\n",
       "    </tr>\n",
       "    <tr>\n",
       "      <th>8066</th>\n",
       "      <td>Ulysses: Jehanne Darc to Renkin no Kishi</td>\n",
       "      <td>The story is set in the 15th century, during t...</td>\n",
       "    </tr>\n",
       "    <tr>\n",
       "      <th>4732</th>\n",
       "      <td>Code Geass: Boukoku no Akito 2 - Hikisakareshi...</td>\n",
       "      <td>With her previous triumphs under her belt, Lei...</td>\n",
       "    </tr>\n",
       "    <tr>\n",
       "      <th>4040</th>\n",
       "      <td>Sword Gai</td>\n",
       "      <td>A promotional video for the manga. \\r\\n \\r\\nTh...</td>\n",
       "    </tr>\n",
       "  </tbody>\n",
       "</table>\n",
       "</div>"
      ],
      "text/plain": [
       "                                                   title  \\\n",
       "3                       Fullmetal Alchemist: Brotherhood   \n",
       "498                                  Fullmetal Alchemist   \n",
       "2903   Fullmetal Alchemist: The Sacred Star of Milos ...   \n",
       "13398      Fullmetal Alchemist: The Sacred Star of Milos   \n",
       "5894     Fullmetal Alchemist: The Conqueror of Shamballa   \n",
       "339            Fullmetal Alchemist: Brotherhood Specials   \n",
       "3538                                          Joker Game   \n",
       "8066            Ulysses: Jehanne Darc to Renkin no Kishi   \n",
       "4732   Code Geass: Boukoku no Akito 2 - Hikisakareshi...   \n",
       "4040                                           Sword Gai   \n",
       "\n",
       "                                                synopsis  \n",
       "3      \"In order for something to be obtained, someth...  \n",
       "498    Edward Elric, a young, brilliant alchemist, ha...  \n",
       "2903   To mark the July 2 opening of the Fullmetal Al...  \n",
       "13398  Chasing a runaway alchemist with strange power...  \n",
       "5894   In desperation, Edward Elric sacrificed his bo...  \n",
       "339    Amazing secrets and startling facts are expose...  \n",
       "3538   With World War II right around the corner, int...  \n",
       "8066   The story is set in the 15th century, during t...  \n",
       "4732   With her previous triumphs under her belt, Lei...  \n",
       "4040   A promotional video for the manga. \\r\\n \\r\\nTh...  "
      ]
     },
     "execution_count": 25,
     "metadata": {},
     "output_type": "execute_result"
    }
   ],
   "source": [
    "new_synopsis = tmp['synopsis'][3]\n",
    "\n",
    "recommended_movies = recommend_movies(tmp,tfidf_matrix_sg, vectorizer_sg, new_synopsis, top_n=10)\n",
    "print(\"Recommended Movies based on synopsis+genre:\")\n",
    "recommended_movies"
   ]
  },
  {
   "cell_type": "markdown",
   "metadata": {},
   "source": [
    "# Conclusion\n",
    "\n",
    "Using NLP to create a recommendation system appears to yield better results when incorporating both synopsis and genre, rather than relying solely on either genre or synopsis alone. However, the model could be enhanced further by incorporating user preferences, such as specifying whether they prefer movies or series.\n",
    "\n",
    "For instance, in the current setup, there's a tendency for the system to prioritize related movies and OVAs (Original Video Animations) over other anime series, as seen in the example of Fullmetal Alchemist: Brotherhood. Implementing a feature that allows users to specify their preference for movies or series could significantly improve the relevance of recommendations."
   ]
  },
  {
   "cell_type": "code",
   "execution_count": null,
   "metadata": {},
   "outputs": [],
   "source": []
  }
 ],
 "metadata": {
  "kernelspec": {
   "display_name": "base",
   "language": "python",
   "name": "python3"
  },
  "language_info": {
   "codemirror_mode": {
    "name": "ipython",
    "version": 3
   },
   "file_extension": ".py",
   "mimetype": "text/x-python",
   "name": "python",
   "nbconvert_exporter": "python",
   "pygments_lexer": "ipython3",
   "version": "3.9.7"
  }
 },
 "nbformat": 4,
 "nbformat_minor": 2
}
